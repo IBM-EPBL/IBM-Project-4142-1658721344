{
  "nbformat": 4,
  "nbformat_minor": 0,
  "metadata": {
    "colab": {
      "provenance": [],
      "collapsed_sections": []
    },
    "kernelspec": {
      "name": "python3",
      "display_name": "Python 3"
    },
    "language_info": {
      "name": "python"
    }
  },
  "cells": [
    {
      "cell_type": "code",
      "execution_count": 12,
      "metadata": {
        "id": "_G7qEPBbX__l"
      },
      "outputs": [],
      "source": [
        "!pip install -q kaggle"
      ]
    },
    {
      "cell_type": "code",
      "source": [
        "!mkdir ~.kaggle "
      ],
      "metadata": {
        "id": "eQDstFr-uVdL"
      },
      "execution_count": 22,
      "outputs": []
    },
    {
      "cell_type": "code",
      "source": [
        "!cp kaggle.json ~/.kaggle/"
      ],
      "metadata": {
        "id": "6hd5zbAJfLl3"
      },
      "execution_count": 17,
      "outputs": []
    },
    {
      "cell_type": "code",
      "source": [
        "!chmod 600 ~/.kaggle/kaggle.json"
      ],
      "metadata": {
        "id": "0J2DV8OJfYaP"
      },
      "execution_count": 18,
      "outputs": []
    },
    {
      "cell_type": "code",
      "source": [
        "!kaggle datasets download -d patrasaurabh/airstats-data-on-airports-around-the-world"
      ],
      "metadata": {
        "colab": {
          "base_uri": "https://localhost:8080/"
        },
        "id": "VqyXVMdag2T0",
        "outputId": "d6c94882-079e-429c-9d76-27391e05433a"
      },
      "execution_count": 6,
      "outputs": [
        {
          "output_type": "stream",
          "name": "stdout",
          "text": [
            "Downloading airstats-data-on-airports-around-the-world.zip to /content\n",
            "\r  0% 0.00/2.99M [00:00<?, ?B/s]\n",
            "\r100% 2.99M/2.99M [00:00<00:00, 113MB/s]\n"
          ]
        }
      ]
    },
    {
      "cell_type": "code",
      "source": [
        "!unzip /content/airstats-data-on-airports-around-the-world.zip"
      ],
      "metadata": {
        "colab": {
          "base_uri": "https://localhost:8080/"
        },
        "id": "f80zPNJ3sLJM",
        "outputId": "a00afcbd-bc4d-4788-b38b-24eced92620f"
      },
      "execution_count": 25,
      "outputs": [
        {
          "output_type": "stream",
          "name": "stdout",
          "text": [
            "Archive:  /content/airstats-data-on-airports-around-the-world.zip\n",
            "  inflating: airports.csv            \n",
            "  inflating: countries.csv           \n",
            "  inflating: regions.csv             \n"
          ]
        }
      ]
    }
  ]
}